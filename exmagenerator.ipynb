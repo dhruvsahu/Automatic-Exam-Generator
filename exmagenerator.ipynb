{
 "cells": [
  {
   "cell_type": "code",
   "execution_count": 1,
   "metadata": {},
   "outputs": [],
   "source": [
    "import os\n",
    "import openai"
   ]
  },
  {
   "cell_type": "code",
   "execution_count": 2,
   "metadata": {},
   "outputs": [],
   "source": [
    "openai.api_key = os.getenv('OPENAI_API_KEY')"
   ]
  },
  {
   "cell_type": "code",
   "execution_count": 8,
   "metadata": {},
   "outputs": [],
   "source": [
    "def create_test_prompt(topic,num_questions,num_possible_answers):\n",
    "    # we can add to ask for link or sources from which the questions are obtained\n",
    "    prompt = f\"Create a multiple choice quiz on the topic of {topic} consisting of {num_questions} questions \"\\\n",
    "            +f\"Each question should have {num_possible_answers} options. \"\\\n",
    "            +f\"Also include the correct answer for each question using the starting string 'Correct Answer: ' \"\n",
    "    return prompt"
   ]
  },
  {
   "cell_type": "code",
   "execution_count": 10,
   "metadata": {},
   "outputs": [],
   "source": [
    "response = openai.Completion.create(engine='text-davinci-003',\n",
    "                                    prompt=create_test_prompt(\"US History\",4,4),\n",
    "                                    max_tokens=256,\n",
    "                                    temperature=0.7)"
   ]
  },
  {
   "cell_type": "code",
   "execution_count": 11,
   "metadata": {},
   "outputs": [
    {
     "name": "stdout",
     "output_type": "stream",
     "text": [
      "\n",
      "\n",
      "Q1. What year did the American Revolution begin?\n",
      "A. 1776\n",
      "B. 1775\n",
      "C. 1778\n",
      "D. 1779\n",
      "Correct Answer: B. 1775\n",
      "\n",
      "Q2. Which Amendment to the Constitution abolished slavery?\n",
      "A. Thirteenth\n",
      "B. Sixteenth\n",
      "C. Fourteenth\n",
      "D. Fifteenth\n",
      "Correct Answer: A. Thirteenth\n",
      "\n",
      "Q3. Who was the first president of the United States?\n",
      "A. George Washington\n",
      "B. Thomas Jefferson\n",
      "C. Abraham Lincoln\n",
      "D. John Adams\n",
      "Correct Answer: A. George Washington\n",
      "\n",
      "Q4. What year did the United States gain independence from Great Britain?\n",
      "A. 1783\n",
      "B. 1776\n",
      "C. 1789\n",
      "D. 1791\n",
      "Correct Answer: B. 1776\n"
     ]
    }
   ],
   "source": [
    "print(response['choices'][0]['text'])"
   ]
  },
  {
   "cell_type": "code",
   "execution_count": 9,
   "metadata": {},
   "outputs": [
    {
     "data": {
      "text/plain": [
       "\"Create a multiple choice quiz on the topic of Python consisting of 4 questions Each question should have 4 options. Also include the correct answer for each question using the starting string 'Correct Answer: ' \""
      ]
     },
     "execution_count": 9,
     "metadata": {},
     "output_type": "execute_result"
    }
   ],
   "source": [
    "create_test_prompt(\"Python\",4,4)"
   ]
  },
  {
   "cell_type": "code",
   "execution_count": 12,
   "metadata": {},
   "outputs": [],
   "source": [
    "def create_student_view(test,num_questions):\n",
    "    student_view = {1:''}\n",
    "    question_number = 1\n",
    "    for line in test.split(\"\\n\"):\n",
    "        if not line.startswith(\"Correct Answer: \"):\n",
    "            student_view[question_number] += line + '\\n'\n",
    "        else:\n",
    "            if question_number<num_questions:\n",
    "                question_number += 1\n",
    "                student_view[question_number] = ''\n",
    "\n",
    "    return student_view"
   ]
  },
  {
   "cell_type": "code",
   "execution_count": 15,
   "metadata": {},
   "outputs": [],
   "source": [
    "result = create_student_view(response['choices'][0]['text'],4)"
   ]
  },
  {
   "cell_type": "code",
   "execution_count": 16,
   "metadata": {},
   "outputs": [
    {
     "name": "stdout",
     "output_type": "stream",
     "text": [
      "\n",
      "\n",
      "Q1. What year did the American Revolution begin?\n",
      "A. 1776\n",
      "B. 1775\n",
      "C. 1778\n",
      "D. 1779\n",
      "\n",
      "\n",
      "Q2. Which Amendment to the Constitution abolished slavery?\n",
      "A. Thirteenth\n",
      "B. Sixteenth\n",
      "C. Fourteenth\n",
      "D. Fifteenth\n",
      "\n",
      "\n",
      "Q3. Who was the first president of the United States?\n",
      "A. George Washington\n",
      "B. Thomas Jefferson\n",
      "C. Abraham Lincoln\n",
      "D. John Adams\n",
      "\n",
      "\n",
      "Q4. What year did the United States gain independence from Great Britain?\n",
      "A. 1783\n",
      "B. 1776\n",
      "C. 1789\n",
      "D. 1791\n",
      "\n"
     ]
    }
   ],
   "source": [
    "for key in result:\n",
    "    print(result[key])"
   ]
  },
  {
   "cell_type": "code",
   "execution_count": 21,
   "metadata": {},
   "outputs": [],
   "source": [
    "def extract_answers(test,num_questions):\n",
    "    answers = {1:''}\n",
    "    question_number = 1\n",
    "    for line in test.split(\"\\n\"):\n",
    "        if line.startswith(\"Correct Answer: \"):\n",
    "            answers[question_number] += line + '\\n'\n",
    "            if question_number<num_questions:\n",
    "                question_number += 1\n",
    "                answers[question_number] = ''\n",
    "\n",
    "    return answers"
   ]
  },
  {
   "cell_type": "code",
   "execution_count": 22,
   "metadata": {},
   "outputs": [
    {
     "data": {
      "text/plain": [
       "{1: 'Correct Answer: B. 1775\\n',\n",
       " 2: 'Correct Answer: A. Thirteenth\\n',\n",
       " 3: 'Correct Answer: A. George Washington\\n',\n",
       " 4: 'Correct Answer: B. 1776\\n'}"
      ]
     },
     "execution_count": 22,
     "metadata": {},
     "output_type": "execute_result"
    }
   ],
   "source": [
    "ans = extract_answers(response['choices'][0]['text'],4)"
   ]
  },
  {
   "cell_type": "code",
   "execution_count": 20,
   "metadata": {},
   "outputs": [
    {
     "name": "stdout",
     "output_type": "stream",
     "text": [
      "\n",
      "\n",
      "\n",
      "Correct Answer: B. 1775\n",
      "Correct Answer: A. Thirteenth\n",
      "Correct Answer: A. George Washington\n",
      "Correct Answer: B. 1776\n",
      "\n"
     ]
    }
   ],
   "source": [
    "for key in ans:\n",
    "    print(ans[key])"
   ]
  },
  {
   "cell_type": "code",
   "execution_count": 23,
   "metadata": {},
   "outputs": [],
   "source": [
    "student_view = create_student_view(response['choices'][0]['text'],4)"
   ]
  },
  {
   "cell_type": "code",
   "execution_count": 24,
   "metadata": {},
   "outputs": [],
   "source": [
    "answers = extract_answers(response['choices'][0]['text'],4)"
   ]
  },
  {
   "cell_type": "code",
   "execution_count": 25,
   "metadata": {},
   "outputs": [],
   "source": [
    "def take(student_view):\n",
    "    student_answers = {}\n",
    "    for question, question_view in student_view.items():\n",
    "        print(question_view)\n",
    "        answer = input(\"Enter your answer: \")\n",
    "        student_answers[question] = answer\n",
    "    \n",
    "    return student_answers"
   ]
  },
  {
   "cell_type": "code",
   "execution_count": 26,
   "metadata": {},
   "outputs": [
    {
     "name": "stdout",
     "output_type": "stream",
     "text": [
      "\n",
      "\n",
      "Q1. What year did the American Revolution begin?\n",
      "A. 1776\n",
      "B. 1775\n",
      "C. 1778\n",
      "D. 1779\n",
      "\n",
      "\n",
      "Q2. Which Amendment to the Constitution abolished slavery?\n",
      "A. Thirteenth\n",
      "B. Sixteenth\n",
      "C. Fourteenth\n",
      "D. Fifteenth\n",
      "\n",
      "\n",
      "Q3. Who was the first president of the United States?\n",
      "A. George Washington\n",
      "B. Thomas Jefferson\n",
      "C. Abraham Lincoln\n",
      "D. John Adams\n",
      "\n",
      "\n",
      "Q4. What year did the United States gain independence from Great Britain?\n",
      "A. 1783\n",
      "B. 1776\n",
      "C. 1789\n",
      "D. 1791\n",
      "\n"
     ]
    }
   ],
   "source": [
    "student_answers = take(student_view)"
   ]
  },
  {
   "cell_type": "code",
   "execution_count": 27,
   "metadata": {},
   "outputs": [
    {
     "data": {
      "text/plain": [
       "{1: 'B', 2: 'C', 3: '3', 4: 'D'}"
      ]
     },
     "execution_count": 27,
     "metadata": {},
     "output_type": "execute_result"
    }
   ],
   "source": [
    "student_answers "
   ]
  },
  {
   "cell_type": "code",
   "execution_count": 33,
   "metadata": {},
   "outputs": [
    {
     "data": {
      "text/plain": [
       "'A'"
      ]
     },
     "execution_count": 33,
     "metadata": {},
     "output_type": "execute_result"
    }
   ],
   "source": [
    "answers[2][16]"
   ]
  },
  {
   "cell_type": "code",
   "execution_count": 34,
   "metadata": {},
   "outputs": [],
   "source": [
    "def grade(correct_answer_dict,student_answers):\n",
    "    correct_answers = 0\n",
    "    for question,answer in student_answers.items():\n",
    "        if answer == correct_answer_dict[question][16]:\n",
    "            correct_answers += 1\n",
    "\n",
    "    grade = 100*correct_answers/ len(answers)\n",
    "\n",
    "    if grade<60:\n",
    "        print(\"FAIL\")\n",
    "    else:\n",
    "        print(\"PASS\")\n",
    "\n",
    "    return f\"{correct_answers}/{len(answers)} correct you got grade {grade}.\""
   ]
  },
  {
   "cell_type": "code",
   "execution_count": 35,
   "metadata": {},
   "outputs": [
    {
     "name": "stdout",
     "output_type": "stream",
     "text": [
      "FAIL\n"
     ]
    },
    {
     "data": {
      "text/plain": [
       "'1/4 correct you got grade 25.0.'"
      ]
     },
     "execution_count": 35,
     "metadata": {},
     "output_type": "execute_result"
    }
   ],
   "source": [
    "grade(answers,student_answers)"
   ]
  }
 ],
 "metadata": {
  "kernelspec": {
   "display_name": "base",
   "language": "python",
   "name": "python3"
  },
  "language_info": {
   "codemirror_mode": {
    "name": "ipython",
    "version": 3
   },
   "file_extension": ".py",
   "mimetype": "text/x-python",
   "name": "python",
   "nbconvert_exporter": "python",
   "pygments_lexer": "ipython3",
   "version": "3.9.12"
  },
  "orig_nbformat": 4
 },
 "nbformat": 4,
 "nbformat_minor": 2
}
